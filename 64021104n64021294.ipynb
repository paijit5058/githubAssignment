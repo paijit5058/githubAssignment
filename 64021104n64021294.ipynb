{
 "cells": [
  {
   "cell_type": "code",
   "execution_count": 3,
   "metadata": {},
   "outputs": [],
   "source": [
    "# !pip install matplotlib\n",
    "\n",
    "import pandas\n",
    "import seaborn\n",
    "\n",
    "# Import necessary libraries\n",
    "import pandas as pd\n",
    "import seaborn as sns\n",
    "import matplotlib.pyplot as plt"
   ]
  },
  {
   "cell_type": "code",
   "execution_count": null,
   "metadata": {},
   "outputs": [],
   "source": [
    "columns = [\n",
    "    \"Date_Time\",\n",
    "    \"Temp_C\",\n",
    "    \"DewPointTemp_C\",\n",
    "    \"RelHum_%\",\n",
    "    \"WindSpeed_kmh\",\n",
    "    \"Visibility_km\",\n",
    "    \"Press_kPa\"\n",
    "]\n",
    "\n",
    "weather = pd.read_csv(\"WeatherData.csv\", header=None, names=columns)\n",
    "weather = weather.info()\n",
    "\n",
    "X = weather[ \n",
    "    [\n",
    "        \"Temp_C\",\n",
    "        \"DewPointTemp_C\",\n",
    "        \"RelHum_%\",\n",
    "        \"WindSpeed_kmh\",\n",
    "        \"Visibility_km\",\n",
    "        \"Press_kPa\"\n",
    "    ]\n",
    "]\n",
    "Y = weather[\"Date_Time\"]"
   ]
  },
  {
   "cell_type": "code",
   "execution_count": null,
   "metadata": {},
   "outputs": [],
   "source": [
    "weather_date = weather[\"Date_Time\"].unique()\n",
    "feature_name = [\n",
    "    \"Temp_C\",\n",
    "    \"DewPointTemp_C\",\n",
    "    \"RelHum_%\",\n",
    "    \"WindSpeed_kmh\",\n",
    "    \"Visibility_km\"\n",
    "]\n",
    "\n",
    "fig, axs = plt.subplots(nrows=2, ncols=2, figsize=(15, 10))\n",
    "\n",
    "for j, feature in enumerate(feature_name):\n",
    "    data = weather[weather[\"Date_Time\"].isin(weather_date)][~np.isnan(weather[feature])][feature]\n",
    "\n",
    "    row = j // 2\n",
    "    col = j % 2\n",
    "\n",
    "    axs[row, col].plot(data)\n",
    "    axs[row, col].set_title(feature)\n",
    "\n",
    "plt.tight_layout()\n",
    "plt.show()"
   ]
  },
  {
   "cell_type": "code",
   "execution_count": null,
   "metadata": {},
   "outputs": [],
   "source": [
    "features = [\"Temp_C\", \"WindSpeed_kmh\"]\n",
    "groups = [\"Date_Time\"]\n",
    "\n",
    "g = sns.FacetGrid(weather, col=groups[0], row=groups[1], hue=\"Temp_C\")\n",
    "g.map(sns.scatterplot, features[0], features[1], edgecolor=\"w\")\n",
    "\n",
    "g.fig.suptitle(f\"'{features[0]}' vs. '{features[1]}' Distribution by '{groups[0]}' \")\n",
    "g.add_legend()\n",
    "\n",
    "plt.tight_layout(pad=3)\n",
    "plt.show()"
   ]
  }
 ],
 "metadata": {
  "kernelspec": {
   "display_name": "Python 3",
   "language": "python",
   "name": "python3"
  },
  "language_info": {
   "codemirror_mode": {
    "name": "ipython",
    "version": 3
   },
   "file_extension": ".py",
   "mimetype": "text/x-python",
   "name": "python",
   "nbconvert_exporter": "python",
   "pygments_lexer": "ipython3",
   "version": "3.12.0rc3"
  }
 },
 "nbformat": 4,
 "nbformat_minor": 2
}
